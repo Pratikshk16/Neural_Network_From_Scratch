{
 "cells": [
  {
   "cell_type": "code",
   "execution_count": 15,
   "metadata": {},
   "outputs": [],
   "source": [
    "import numpy as np\n",
    "np.random.seed(0)\n",
    "X = [[1, 2, 3, 2.5]\n",
    "    , [2.0, 5.0, -1.0, 2.0]\n",
    "    , [-1.5, 2.7, 3.3, -0.8]]"
   ]
  },
  {
   "cell_type": "code",
   "execution_count": 18,
   "metadata": {},
   "outputs": [],
   "source": [
    "class Layer_Dense:\n",
    "    def __init__(self, n_inputs, n_neurons):\n",
    "        self.weights = 0.10 * np.random.randn(n_inputs, n_neurons)\n",
    "        self.biases = np.zeros((1, n_neurons))\n",
    "    def forward(self, inputs):\n",
    "        self.output = np.dot(inputs, self.weights) + self.biases"
   ]
  },
  {
   "cell_type": "code",
   "execution_count": 20,
   "metadata": {},
   "outputs": [
    {
     "name": "stdout",
     "output_type": "stream",
     "text": [
      "[[-0.30606365 -0.46342184 -0.11883445 -0.98963701 -0.00915226]\n",
      " [ 0.02196248 -0.17944524  0.222946   -0.5621189  -0.19436056]\n",
      " [ 0.06020012 -0.0283124  -0.14707267 -0.49126153 -0.03931779]]\n",
      "[[0.00656412 0.11864843]\n",
      " [0.04512981 0.03862067]\n",
      " [0.03924974 0.04256008]]\n"
     ]
    }
   ],
   "source": [
    "layer1 = Layer_Dense(4, 5)\n",
    "layer2 = Layer_Dense(5, 2)\n",
    "layer1.forward(X)\n",
    "layer2.forward(layer1.output)\n",
    "print(layer1.output)\n",
    "print(layer2.output)\n",
    "# The output of layer1 is a 3x5 matrix, and the output of layer2 is a 3x2 matrix.\n",
    "# The weights and biases are initialized randomly, so the output will vary each time you run the code.\n"
   ]
  }
 ],
 "metadata": {
  "kernelspec": {
   "display_name": ".venv",
   "language": "python",
   "name": "python3"
  },
  "language_info": {
   "codemirror_mode": {
    "name": "ipython",
    "version": 3
   },
   "file_extension": ".py",
   "mimetype": "text/x-python",
   "name": "python",
   "nbconvert_exporter": "python",
   "pygments_lexer": "ipython3",
   "version": "3.12.3"
  }
 },
 "nbformat": 4,
 "nbformat_minor": 2
}
